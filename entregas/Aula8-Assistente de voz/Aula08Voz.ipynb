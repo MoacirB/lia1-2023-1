{
 "cells": [
  {
   "cell_type": "code",
   "execution_count": 1,
   "metadata": {
    "id": "mcoIupu5uJyL",
    "executionInfo": {
     "status": "ok",
     "timestamp": 1684444628775,
     "user_tz": 180,
     "elapsed": 23304,
     "user": {
      "displayName": "GIULIA BORGES DE OLIVEIRA",
      "userId": "09822134392377354410"
     }
    },
    "outputId": "1da60f61-ef00-496c-c8a8-6bb77ee7bb60",
    "colab": {
     "base_uri": "https://localhost:8080/"
    },
    "ExecuteTime": {
     "start_time": "2023-05-18T19:33:17.179251Z",
     "end_time": "2023-05-18T19:33:17.871177Z"
    }
   },
   "outputs": [
    {
     "name": "stdout",
     "output_type": "stream",
     "text": [
      "Requirement already satisfied: vosk in /home/moacir/anaconda3/envs/lia3/lib/python3.10/site-packages (0.3.45)\r\n",
      "Requirement already satisfied: requests in /home/moacir/anaconda3/envs/lia3/lib/python3.10/site-packages (from vosk) (2.29.0)\r\n",
      "Requirement already satisfied: tqdm in /home/moacir/anaconda3/envs/lia3/lib/python3.10/site-packages (from vosk) (4.65.0)\r\n",
      "Requirement already satisfied: cffi>=1.0 in /home/moacir/anaconda3/envs/lia3/lib/python3.10/site-packages (from vosk) (1.15.1)\r\n",
      "Requirement already satisfied: websockets in /home/moacir/anaconda3/envs/lia3/lib/python3.10/site-packages (from vosk) (11.0.3)\r\n",
      "Requirement already satisfied: srt in /home/moacir/anaconda3/envs/lia3/lib/python3.10/site-packages (from vosk) (3.5.3)\r\n",
      "Requirement already satisfied: pycparser in /home/moacir/anaconda3/envs/lia3/lib/python3.10/site-packages (from cffi>=1.0->vosk) (2.21)\r\n",
      "Requirement already satisfied: charset-normalizer<4,>=2 in /home/moacir/anaconda3/envs/lia3/lib/python3.10/site-packages (from requests->vosk) (2.0.4)\r\n",
      "Requirement already satisfied: idna<4,>=2.5 in /home/moacir/anaconda3/envs/lia3/lib/python3.10/site-packages (from requests->vosk) (3.4)\r\n",
      "Requirement already satisfied: certifi>=2017.4.17 in /home/moacir/anaconda3/envs/lia3/lib/python3.10/site-packages (from requests->vosk) (2023.5.7)\r\n",
      "Requirement already satisfied: urllib3<1.27,>=1.21.1 in /home/moacir/anaconda3/envs/lia3/lib/python3.10/site-packages (from requests->vosk) (1.26.15)\r\n",
      "Note: you may need to restart the kernel to use updated packages.\n"
     ]
    }
   ],
   "source": [
    "%pip install vosk"
   ]
  },
  {
   "cell_type": "code",
   "execution_count": null,
   "metadata": {
    "id": "jH5QV43GuJyR",
    "executionInfo": {
     "status": "error",
     "timestamp": 1684444628776,
     "user_tz": 180,
     "elapsed": 10,
     "user": {
      "displayName": "GIULIA BORGES DE OLIVEIRA",
      "userId": "09822134392377354410"
     }
    },
    "outputId": "2d8896da-a5f6-4f21-d86d-a81023cbd6c9",
    "colab": {
     "base_uri": "https://localhost:8080/",
     "height": 373
    }
   },
   "outputs": [
    {
     "name": "stderr",
     "output_type": "stream",
     "text": [
      "LOG (VoskAPI:ReadDataFiles():model.cc:308) Loading winfo /home/moacir/.cache/vosk/vosk-model-small-pt-0.3/word_boundary.int\n"
     ]
    },
    {
     "name": "stdout",
     "output_type": "stream",
     "text": [
      "{\n",
      "  \"text\" : \"\"\n",
      "}\n",
      "{\n",
      "  \"text\" : \"testando\"\n",
      "}\n",
      "{\n",
      "  \"text\" : \"dois\"\n",
      "}\n",
      "{\n",
      "  \"text\" : \"tá bom\"\n",
      "}\n"
     ]
    },
    {
     "ename": "KeyboardInterrupt",
     "evalue": "",
     "output_type": "error",
     "traceback": [
      "\u001B[0;31m---------------------------------------------------------------------------\u001B[0m",
      "\u001B[0;31mKeyboardInterrupt\u001B[0m                         Traceback (most recent call last)",
      "Cell \u001B[0;32mIn[27], line 37\u001B[0m\n\u001B[1;32m     34\u001B[0m stream\u001B[38;5;241m.\u001B[39mstart_stream()\n\u001B[1;32m     36\u001B[0m \u001B[38;5;28;01mwhile\u001B[39;00m \u001B[38;5;28;01mTrue\u001B[39;00m:\n\u001B[0;32m---> 37\u001B[0m     data \u001B[38;5;241m=\u001B[39m \u001B[43mstream\u001B[49m\u001B[38;5;241;43m.\u001B[39;49m\u001B[43mread\u001B[49m\u001B[43m(\u001B[49m\u001B[38;5;241;43m4000\u001B[39;49m\u001B[43m)\u001B[49m\n\u001B[1;32m     38\u001B[0m     \u001B[38;5;28;01mif\u001B[39;00m \u001B[38;5;28mlen\u001B[39m(data) \u001B[38;5;241m==\u001B[39m \u001B[38;5;241m0\u001B[39m:\n\u001B[1;32m     39\u001B[0m         \u001B[38;5;28;01mbreak\u001B[39;00m\n",
      "File \u001B[0;32m~/anaconda3/envs/lia3/lib/python3.10/site-packages/PyAudio-0.2.11-py3.10-linux-x86_64.egg/pyaudio.py:608\u001B[0m, in \u001B[0;36mStream.read\u001B[0;34m(self, num_frames, exception_on_overflow)\u001B[0m\n\u001B[1;32m    604\u001B[0m \u001B[38;5;28;01mif\u001B[39;00m \u001B[38;5;129;01mnot\u001B[39;00m \u001B[38;5;28mself\u001B[39m\u001B[38;5;241m.\u001B[39m_is_input:\n\u001B[1;32m    605\u001B[0m     \u001B[38;5;28;01mraise\u001B[39;00m \u001B[38;5;167;01mIOError\u001B[39;00m(\u001B[38;5;124m\"\u001B[39m\u001B[38;5;124mNot input stream\u001B[39m\u001B[38;5;124m\"\u001B[39m,\n\u001B[1;32m    606\u001B[0m                   paCanNotReadFromAnOutputOnlyStream)\n\u001B[0;32m--> 608\u001B[0m \u001B[38;5;28;01mreturn\u001B[39;00m \u001B[43mpa\u001B[49m\u001B[38;5;241;43m.\u001B[39;49m\u001B[43mread_stream\u001B[49m\u001B[43m(\u001B[49m\u001B[38;5;28;43mself\u001B[39;49m\u001B[38;5;241;43m.\u001B[39;49m\u001B[43m_stream\u001B[49m\u001B[43m,\u001B[49m\u001B[43m \u001B[49m\u001B[43mnum_frames\u001B[49m\u001B[43m,\u001B[49m\u001B[43m \u001B[49m\u001B[43mexception_on_overflow\u001B[49m\u001B[43m)\u001B[49m\n",
      "\u001B[0;31mKeyboardInterrupt\u001B[0m: "
     ]
    }
   ],
   "source": [
    "# Arquivo principal\n",
    "\n",
    "# Assistente online!\n",
    "#\n",
    "# import speech_recognition as sr\n",
    "#\n",
    "# # Criar um reconhecedor de voz\n",
    "# r = sr.Recognizer()\n",
    "#\n",
    "# # Abrir o microfone para capturar áudio\n",
    "# with sr.Microphone() as source:\n",
    "#     while True:\n",
    "#         # Definir microfone como fonte de áudio\n",
    "#         r.adjust_for_ambient_noise(source, duration = 5)\n",
    "#         audio = r.listen(source)\n",
    "#         try:\n",
    "#             print(r.recognize_google(audio, language='pt'))\n",
    "#         except sr.UnknownValueError:\n",
    "#             pass\n",
    "\n",
    "\n",
    "# Assistente offline!\n",
    "# !/usr/bin/env python3\n",
    "\n",
    "from vosk import Model, KaldiRecognizer\n",
    "import os\n",
    "import pyaudio\n",
    "\n",
    "model = Model(model_name='vosk-model-small-pt-0.3')\n",
    "rec = KaldiRecognizer(model, 16000)\n",
    "\n",
    "p = pyaudio.PyAudio()\n",
    "stream = p.open(format=pyaudio.paInt16, channels=1, rate=16000, input=True, frames_per_buffer=8000)\n",
    "stream.start_stream()\n",
    "\n",
    "while True:\n",
    "    data = stream.read(4000)\n",
    "    if len(data) == 0:\n",
    "        break\n",
    "    if rec.AcceptWaveform(data):\n",
    "        print(rec.Result())\n",
    "    # else:\n",
    "    #     print(rec.PartialResult())\n",
    "\n",
    "print(rec.FinalResult())"
   ]
  },
  {
   "cell_type": "code",
   "execution_count": null,
   "outputs": [],
   "source": [],
   "metadata": {
    "collapsed": false
   }
  }
 ],
 "metadata": {
  "kernelspec": {
   "display_name": "Python 3",
   "language": "python",
   "name": "python3"
  },
  "language_info": {
   "codemirror_mode": {
    "name": "ipython",
    "version": 3
   },
   "file_extension": ".py",
   "mimetype": "text/x-python",
   "name": "python",
   "nbconvert_exporter": "python",
   "pygments_lexer": "ipython3",
   "version": "3.11.3"
  },
  "orig_nbformat": 4,
  "colab": {
   "provenance": []
  }
 },
 "nbformat": 4,
 "nbformat_minor": 0
}
