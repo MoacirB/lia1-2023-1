{
  "cells": [
    {
      "cell_type": "markdown",
      "metadata": {
        "id": "view-in-github",
        "colab_type": "text"
      },
      "source": [
        "<a href=\"https://colab.research.google.com/github/MoacirB/lia1-2023-1/blob/main/Aula3.ipynb\" target=\"_parent\"><img src=\"https://colab.research.google.com/assets/colab-badge.svg\" alt=\"Open In Colab\"/></a>"
      ]
    },
    {
      "cell_type": "markdown",
      "id": "af71d97b",
      "metadata": {
        "id": "af71d97b"
      },
      "source": [
        "<hr style=\"height:10px\"> \n",
        " \n",
        "<div class='container2'>\n",
        "\t\t<div>\n",
        "\t\t\t<img src='https://friconix.com/jpg/fi-xnsuxl-jupyter-notebook.jpg' ALIGN='left' style='width:10em'>\n",
        "\t\t</div>\t\n",
        "\t<div style='padding: 0 7em 2em 12em;'>\n",
        "\t<h1>Laboratório de Inovação e Automação 1 (LIA 1)</h1>\n",
        "\t<div style=\"font-size:12pt;float:left;\"> 2023/1 | 46M34 | Sala 200 CAE</div><br><br>\n",
        "    <div style=\"font-size:12pt;float:left;\"><b>Projetos de Inteligência Artificial</b></div>\n",
        "\t</div>\n",
        "</div>\n",
        "\n",
        "\n",
        " <hr style=\"height:5px\"> \n",
        "\n",
        "    \n",
        "<h2>Introdução ao Ambiente de Projetos</h2>\n",
        "\n",
        "Notebook desenvolvido por: <a href=\"http://lattes.cnpq.br/1346824250595330\">Moacir Batista</a>\n",
        "\n",
        " <hr style=\"height:2px\"> "
      ]
    },
    {
      "cell_type": "code",
      "source": [
        "from google.colab import drive\n",
        "drive.mount('/content/drive')"
      ],
      "metadata": {
        "colab": {
          "base_uri": "https://localhost:8080/"
        },
        "id": "d8pMlEwlm6L2",
        "outputId": "4d4b61ae-8a70-479c-aed7-12f083010b37"
      },
      "id": "d8pMlEwlm6L2",
      "execution_count": 16,
      "outputs": [
        {
          "output_type": "stream",
          "name": "stdout",
          "text": [
            "Mounted at /content/drive\n"
          ]
        }
      ]
    },
    {
      "cell_type": "code",
      "execution_count": 1,
      "id": "9717cc09",
      "metadata": {
        "colab": {
          "base_uri": "https://localhost:8080/"
        },
        "id": "9717cc09",
        "outputId": "433459fb-c6ca-452c-e807-5240c57c4c6a"
      },
      "outputs": [
        {
          "output_type": "stream",
          "name": "stdout",
          "text": [
            "Versão do python: 3.10.11\n"
          ]
        }
      ],
      "source": [
        "# Confirmar versão do python\n",
        "from platform import python_version\n",
        "print(f'Versão do python: {python_version()}')"
      ]
    },
    {
      "cell_type": "markdown",
      "id": "d9b9bbe3",
      "metadata": {
        "id": "d9b9bbe3"
      },
      "source": [
        "### Operadores aritméticos"
      ]
    },
    {
      "cell_type": "code",
      "execution_count": 2,
      "id": "8022d3ad",
      "metadata": {
        "colab": {
          "base_uri": "https://localhost:8080/"
        },
        "id": "8022d3ad",
        "outputId": "bb468e2f-e010-4735-b17a-4350dd6e8581"
      },
      "outputs": [
        {
          "output_type": "execute_result",
          "data": {
            "text/plain": [
              "2"
            ]
          },
          "metadata": {},
          "execution_count": 2
        }
      ],
      "source": [
        "# Adição\n",
        "1+1"
      ]
    },
    {
      "cell_type": "code",
      "execution_count": 3,
      "id": "82e1e1bf",
      "metadata": {
        "colab": {
          "base_uri": "https://localhost:8080/"
        },
        "id": "82e1e1bf",
        "outputId": "7e9923cf-0d83-4e33-cc4e-aca84b70adaa"
      },
      "outputs": [
        {
          "output_type": "execute_result",
          "data": {
            "text/plain": [
              "1"
            ]
          },
          "metadata": {},
          "execution_count": 3
        }
      ],
      "source": [
        "#Subtração\n",
        "2-1"
      ]
    },
    {
      "cell_type": "code",
      "execution_count": 4,
      "id": "501fac9c",
      "metadata": {
        "colab": {
          "base_uri": "https://localhost:8080/"
        },
        "id": "501fac9c",
        "outputId": "28fc6b21-953f-4eee-8512-a0b831fadac2"
      },
      "outputs": [
        {
          "output_type": "execute_result",
          "data": {
            "text/plain": [
              "4"
            ]
          },
          "metadata": {},
          "execution_count": 4
        }
      ],
      "source": [
        "# Multiplicação\n",
        "2*2"
      ]
    },
    {
      "cell_type": "code",
      "execution_count": 5,
      "id": "9fe24d8c",
      "metadata": {
        "colab": {
          "base_uri": "https://localhost:8080/"
        },
        "id": "9fe24d8c",
        "outputId": "4b6c8a74-41b9-421f-e01b-19f71042fc73"
      },
      "outputs": [
        {
          "output_type": "execute_result",
          "data": {
            "text/plain": [
              "1.5"
            ]
          },
          "metadata": {},
          "execution_count": 5
        }
      ],
      "source": [
        "#Divisão\n",
        "3/2"
      ]
    },
    {
      "cell_type": "code",
      "execution_count": 6,
      "id": "e46fbc80",
      "metadata": {
        "colab": {
          "base_uri": "https://localhost:8080/"
        },
        "id": "e46fbc80",
        "outputId": "cf6f1614-ba5f-4bc1-a250-23a6e7f72a8c"
      },
      "outputs": [
        {
          "output_type": "execute_result",
          "data": {
            "text/plain": [
              "16"
            ]
          },
          "metadata": {},
          "execution_count": 6
        }
      ],
      "source": [
        "# Potência\n",
        "4 ** 2"
      ]
    },
    {
      "cell_type": "code",
      "execution_count": 7,
      "id": "b12c62e7",
      "metadata": {
        "colab": {
          "base_uri": "https://localhost:8080/"
        },
        "id": "b12c62e7",
        "outputId": "6ca9a0fa-d2bb-4b44-defe-d6d2d94fa71a"
      },
      "outputs": [
        {
          "output_type": "execute_result",
          "data": {
            "text/plain": [
              "1"
            ]
          },
          "metadata": {},
          "execution_count": 7
        }
      ],
      "source": [
        "# Módulo\n",
        "10 % 3"
      ]
    },
    {
      "cell_type": "markdown",
      "id": "4555ef18",
      "metadata": {
        "id": "4555ef18"
      },
      "source": [
        "### Tipo de dados (Type)"
      ]
    },
    {
      "cell_type": "code",
      "execution_count": 8,
      "id": "8cca2b29",
      "metadata": {
        "colab": {
          "base_uri": "https://localhost:8080/"
        },
        "id": "8cca2b29",
        "outputId": "19e56bde-4d45-434a-c1aa-59265cdd909f"
      },
      "outputs": [
        {
          "output_type": "execute_result",
          "data": {
            "text/plain": [
              "int"
            ]
          },
          "metadata": {},
          "execution_count": 8
        }
      ],
      "source": [
        "# Inteiro\n",
        "type(5)"
      ]
    },
    {
      "cell_type": "code",
      "execution_count": 9,
      "id": "7433f791",
      "metadata": {
        "colab": {
          "base_uri": "https://localhost:8080/"
        },
        "id": "7433f791",
        "outputId": "ccd75d77-93f1-49dc-d6f4-bd3b03a7f8fa"
      },
      "outputs": [
        {
          "output_type": "execute_result",
          "data": {
            "text/plain": [
              "float"
            ]
          },
          "metadata": {},
          "execution_count": 9
        }
      ],
      "source": [
        "# Float\n",
        "type(5.0)"
      ]
    },
    {
      "cell_type": "code",
      "execution_count": 10,
      "id": "8c4e6716",
      "metadata": {
        "colab": {
          "base_uri": "https://localhost:8080/"
        },
        "id": "8c4e6716",
        "outputId": "3ab2243a-c460-40de-d221-0261ab5f97b1"
      },
      "outputs": [
        {
          "output_type": "execute_result",
          "data": {
            "text/plain": [
              "str"
            ]
          },
          "metadata": {},
          "execution_count": 10
        }
      ],
      "source": [
        "# String\n",
        "s = 'Estudando python'\n",
        "type(s)"
      ]
    },
    {
      "cell_type": "markdown",
      "id": "2640e780",
      "metadata": {
        "id": "2640e780"
      },
      "source": [
        "# Condicional if"
      ]
    },
    {
      "cell_type": "code",
      "execution_count": 11,
      "id": "653dbb6e",
      "metadata": {
        "colab": {
          "base_uri": "https://localhost:8080/"
        },
        "id": "653dbb6e",
        "outputId": "414d1a78-ad82-414f-aee7-a8c9546355d6"
      },
      "outputs": [
        {
          "output_type": "stream",
          "name": "stdout",
          "text": [
            "A sentença é verdadeira\n"
          ]
        }
      ],
      "source": [
        "# Condicional if\n",
        "if 3>2:\n",
        "    print('A sentença é verdadeira')"
      ]
    },
    {
      "cell_type": "code",
      "execution_count": 12,
      "id": "c4e39f4d",
      "metadata": {
        "colab": {
          "base_uri": "https://localhost:8080/"
        },
        "id": "c4e39f4d",
        "outputId": "5bb118c9-da44-483c-85ea-ef54f1b0ff60"
      },
      "outputs": [
        {
          "output_type": "stream",
          "name": "stdout",
          "text": [
            "A sentença é falsa\n"
          ]
        }
      ],
      "source": [
        "# Condicional if ... else\n",
        "if 5< 2:\n",
        "    print('A sentença é verdadeira')\n",
        "else:\n",
        "    print('A sentença é falsa')"
      ]
    },
    {
      "cell_type": "code",
      "execution_count": 13,
      "id": "32cc6ec4",
      "metadata": {
        "colab": {
          "base_uri": "https://localhost:8080/"
        },
        "id": "32cc6ec4",
        "outputId": "12269255-9d63-4204-951b-e0fe1d836104"
      },
      "outputs": [
        {
          "output_type": "stream",
          "name": "stdout",
          "text": [
            "Hoje vai chover!\n"
          ]
        }
      ],
      "source": [
        "# Condicional if ... else com variável\n",
        "dia = 'Quarta-feira'\n",
        "\n",
        "if dia == 'Sexta-feira':\n",
        "    print('Hoje fará sol')\n",
        "else:\n",
        "    print('Hoje vai chover!')"
      ]
    },
    {
      "cell_type": "markdown",
      "id": "9dabf7e9",
      "metadata": {
        "id": "9dabf7e9"
      },
      "source": [
        "### Manipulando arquivos"
      ]
    },
    {
      "cell_type": "code",
      "source": [
        "path = '/content/drive/MyDrive/'"
      ],
      "metadata": {
        "id": "lEDILYY7nUcz"
      },
      "id": "lEDILYY7nUcz",
      "execution_count": 19,
      "outputs": []
    },
    {
      "cell_type": "code",
      "execution_count": 20,
      "id": "394f07ba",
      "metadata": {
        "colab": {
          "base_uri": "https://localhost:8080/"
        },
        "id": "394f07ba",
        "outputId": "6a898710-2f20-44d2-c529-3d03dd08028c"
      },
      "outputs": [
        {
          "output_type": "execute_result",
          "data": {
            "text/plain": [
              "28"
            ]
          },
          "metadata": {},
          "execution_count": 20
        }
      ],
      "source": [
        "# Abrindo arquivo para gravação\n",
        "file1 = open(f'{path}file/file.txt', 'w')\n",
        "file1.write('Escrevendo arquivo em python')"
      ]
    },
    {
      "cell_type": "code",
      "execution_count": 21,
      "id": "e23ad6da",
      "metadata": {
        "id": "e23ad6da"
      },
      "outputs": [],
      "source": [
        "# Abrindo arquivo para leitura\n",
        "file1 = open(f'{path}file/file.txt', 'r')"
      ]
    },
    {
      "cell_type": "code",
      "execution_count": 22,
      "id": "cf466e17",
      "metadata": {
        "colab": {
          "base_uri": "https://localhost:8080/"
        },
        "id": "cf466e17",
        "outputId": "326855a3-df8c-48a1-e941-2ca3f4471b0c"
      },
      "outputs": [
        {
          "output_type": "stream",
          "name": "stdout",
          "text": [
            "Escrevendo arquivo em python\n"
          ]
        }
      ],
      "source": [
        "# Imprimindo o arquivo\n",
        "print(file1.read())"
      ]
    }
  ],
  "metadata": {
    "kernelspec": {
      "display_name": "Python 3 (ipykernel)",
      "language": "python",
      "name": "python3"
    },
    "language_info": {
      "codemirror_mode": {
        "name": "ipython",
        "version": 3
      },
      "file_extension": ".py",
      "mimetype": "text/x-python",
      "name": "python",
      "nbconvert_exporter": "python",
      "pygments_lexer": "ipython3",
      "version": "3.10.9"
    },
    "colab": {
      "provenance": [],
      "include_colab_link": true
    }
  },
  "nbformat": 4,
  "nbformat_minor": 5
}