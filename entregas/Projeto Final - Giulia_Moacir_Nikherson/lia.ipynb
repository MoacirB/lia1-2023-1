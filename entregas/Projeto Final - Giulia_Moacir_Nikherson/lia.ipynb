{
 "cells": [
  {
   "cell_type": "code",
   "execution_count": 1,
   "metadata": {
    "collapsed": true,
    "ExecuteTime": {
     "start_time": "2023-08-08T20:29:08.849632Z",
     "end_time": "2023-08-08T20:29:10.327897Z"
    }
   },
   "outputs": [],
   "source": [
    "import torch\n",
    "import matplotlib.pyplot as plt\n",
    "import pandas as pd\n",
    "from collections import defaultdict\n",
    "\n",
    "from nltk import TweetTokenizer\n",
    "from torch import nn\n",
    "from transformers import BertModel\n",
    "from torch.utils.data import Dataset\n",
    "import torch.nn.functional as F\n",
    "\n",
    "from transformers import BertTokenizer"
   ]
  },
  {
   "cell_type": "code",
   "execution_count": 2,
   "outputs": [],
   "source": [
    "import logging\n",
    "logging.getLogger(\"transformers.modeling_utils\").setLevel(logging.ERROR)"
   ],
   "metadata": {
    "collapsed": false,
    "ExecuteTime": {
     "start_time": "2023-08-08T20:29:10.328239Z",
     "end_time": "2023-08-08T20:29:10.335375Z"
    }
   }
  },
  {
   "cell_type": "code",
   "execution_count": 3,
   "outputs": [],
   "source": [
    "pd.set_option('display.max_colwidth', None)"
   ],
   "metadata": {
    "collapsed": false,
    "ExecuteTime": {
     "start_time": "2023-08-08T20:29:10.330743Z",
     "end_time": "2023-08-08T20:29:10.464173Z"
    }
   }
  },
  {
   "cell_type": "markdown",
   "source": [
    "## Configurações do BERT"
   ],
   "metadata": {
    "collapsed": false
   }
  },
  {
   "cell_type": "markdown",
   "source": [
    "Habilitando GPU"
   ],
   "metadata": {
    "collapsed": false
   }
  },
  {
   "cell_type": "code",
   "execution_count": 4,
   "outputs": [
    {
     "name": "stdout",
     "output_type": "stream",
     "text": [
      "cuda\n"
     ]
    }
   ],
   "source": [
    "device = torch.device(\"cuda\" if torch.cuda.is_available() else \"cpu\")\n",
    "print(device)"
   ],
   "metadata": {
    "collapsed": false,
    "ExecuteTime": {
     "start_time": "2023-08-08T20:29:10.464841Z",
     "end_time": "2023-08-08T20:29:10.580894Z"
    }
   }
  },
  {
   "cell_type": "markdown",
   "source": [
    "Tokenizer"
   ],
   "metadata": {
    "collapsed": false
   }
  },
  {
   "cell_type": "code",
   "execution_count": 5,
   "outputs": [],
   "source": [
    "PRE_TRAINED_MODEL_NAME = 'neuralmind/bert-base-portuguese-cased'\n",
    "tokenizer_bert = BertTokenizer.from_pretrained(PRE_TRAINED_MODEL_NAME)"
   ],
   "metadata": {
    "collapsed": false,
    "ExecuteTime": {
     "start_time": "2023-08-08T20:29:10.581931Z",
     "end_time": "2023-08-08T20:29:11.008666Z"
    }
   }
  },
  {
   "cell_type": "markdown",
   "source": [
    "Exemplo com o BertTokenizer"
   ],
   "metadata": {
    "collapsed": false
   }
  },
  {
   "cell_type": "code",
   "execution_count": 6,
   "outputs": [
    {
     "name": "stdout",
     "output_type": "stream",
     "text": [
      "['Mano', 'eu', 'não', 'gosto', 'do', 'Bols', '##ona', '##ro', ',', 'mas', 'amo', 'meu', 'país']\n",
      "{'input_ids': tensor([[  101,  8419,  2779,   346, 10303,   171, 20354,   716,   157,   117,\n",
      "           449, 14283,  7343,   806,   102]]), 'attention_mask': tensor([[1, 1, 1, 1, 1, 1, 1, 1, 1, 1, 1, 1, 1, 1, 1]])}\n"
     ]
    }
   ],
   "source": [
    "sample_txt = \"Mano eu não gosto do Bolsonaro, mas amo meu país\"\n",
    "\n",
    "tokens_basic = tokenizer_bert.tokenize(sample_txt)\n",
    "tokens = tokenizer_bert.encode_plus(\n",
    "    sample_txt,\n",
    "    add_special_tokens=True,\n",
    "    max_length=200,\n",
    "    return_token_type_ids=False,\n",
    "    padding=True,\n",
    "    truncation=True,\n",
    "    return_attention_mask=True,\n",
    "    return_tensors='pt',\n",
    ")\n",
    "\n",
    "print(tokens_basic)\n",
    "print(tokens)"
   ],
   "metadata": {
    "collapsed": false,
    "ExecuteTime": {
     "start_time": "2023-08-08T20:29:11.010298Z",
     "end_time": "2023-08-08T20:29:11.012370Z"
    }
   }
  },
  {
   "cell_type": "markdown",
   "source": [
    "### Modelo"
   ],
   "metadata": {
    "collapsed": false
   }
  },
  {
   "cell_type": "code",
   "execution_count": 7,
   "outputs": [],
   "source": [
    "class TweetDataset(Dataset):\n",
    "\n",
    "    def __init__(self, texts, clean_texts, sentiments, tokenizer, max_len):\n",
    "        self.texts = texts\n",
    "        self.clean_texts = clean_texts\n",
    "        self.sentiments = sentiments\n",
    "        self.tokenizer = tokenizer\n",
    "        self.max_len = max_len\n",
    "\n",
    "    def __len__(self):\n",
    "        return len(self.texts)\n",
    "\n",
    "    def __getitem__(self, item):\n",
    "        text = str(self.texts[item])\n",
    "        clean_text = str(self.clean_texts[item])\n",
    "        target = self.sentiments[item] if self.sentiments is not None else None\n",
    "\n",
    "        encoding = self.tokenizer.encode_plus(\n",
    "            clean_text,\n",
    "            add_special_tokens=True,\n",
    "            max_length=self.max_len,\n",
    "            return_token_type_ids=False,\n",
    "            padding=True,\n",
    "            truncation=True,\n",
    "            return_attention_mask=True,\n",
    "            return_tensors='pt',\n",
    "        )\n",
    "\n",
    "        return {\n",
    "            'text': text,\n",
    "            'clean_text': clean_text,\n",
    "            'input_ids': encoding['input_ids'].flatten(),\n",
    "            'attention_mask': encoding['attention_mask'].flatten(),\n",
    "            'sentiment': torch.tensor(target, dtype=torch.long) if target is not None else None\n",
    "        }"
   ],
   "metadata": {
    "collapsed": false,
    "ExecuteTime": {
     "start_time": "2023-08-08T20:29:11.014110Z",
     "end_time": "2023-08-08T20:29:11.240081Z"
    }
   }
  },
  {
   "cell_type": "code",
   "execution_count": 8,
   "outputs": [],
   "source": [
    "from torch.utils.data import DataLoader\n",
    "\n",
    "def create_data_loader(dataframe, tokenizer, max_len, batch_size):\n",
    "    ds = TweetDataset(\n",
    "        texts=dataframe.text.to_numpy(),\n",
    "        clean_texts = dataframe.clean_text.to_numpy(),\n",
    "        sentiments= dataframe.sentiment.to_numpy() if 'sentiment' in dataframe.columns  else None,\n",
    "        tokenizer=tokenizer,\n",
    "        max_len=max_len\n",
    "    )\n",
    "\n",
    "    return DataLoader(\n",
    "        ds,\n",
    "        batch_size=batch_size,\n",
    "        num_workers=4\n",
    "    )"
   ],
   "metadata": {
    "collapsed": false,
    "ExecuteTime": {
     "start_time": "2023-08-08T20:29:11.241250Z",
     "end_time": "2023-08-08T20:29:11.492100Z"
    }
   }
  },
  {
   "cell_type": "code",
   "execution_count": 9,
   "outputs": [],
   "source": [
    "class SentimentClassifier(nn.Module):\n",
    "\n",
    "    def __init__(self, n_classes):\n",
    "        super(SentimentClassifier, self).__init__()\n",
    "        self.bert = BertModel.from_pretrained(PRE_TRAINED_MODEL_NAME, return_dict=False)\n",
    "        self.drop = nn.Dropout(p=0.2)\n",
    "        self.out = nn.Linear(self.bert.config.hidden_size, n_classes)\n",
    "\n",
    "    def forward(self, input_ids, attention_mask):\n",
    "        _, pooled_output = self.bert(\n",
    "            input_ids=input_ids.unsqueeze(0),\n",
    "            attention_mask=attention_mask.unsqueeze(0)\n",
    "        )\n",
    "        output = self.drop(pooled_output)\n",
    "        return self.out(output)"
   ],
   "metadata": {
    "collapsed": false,
    "ExecuteTime": {
     "start_time": "2023-08-08T20:29:11.493472Z",
     "end_time": "2023-08-08T20:29:11.781330Z"
    }
   }
  },
  {
   "cell_type": "markdown",
   "source": [
    "Criação do modelo"
   ],
   "metadata": {
    "collapsed": false
   }
  },
  {
   "cell_type": "code",
   "execution_count": 10,
   "outputs": [],
   "source": [
    "class_names = ['Negativo', 'Positivo']\n",
    "\n",
    "sentiment_model = SentimentClassifier(len(class_names))\n",
    "sentiment_model = sentiment_model.to(device)"
   ],
   "metadata": {
    "collapsed": false,
    "ExecuteTime": {
     "start_time": "2023-08-08T20:29:11.782134Z",
     "end_time": "2023-08-08T20:29:13.698777Z"
    }
   }
  },
  {
   "cell_type": "markdown",
   "source": [
    "## Métodos de treino e validação"
   ],
   "metadata": {
    "collapsed": false
   }
  },
  {
   "cell_type": "code",
   "execution_count": 11,
   "outputs": [],
   "source": [
    "EPOCHS = 5\n",
    "BATCH_SIZE = 8\n",
    "MAX_LEN = 200\n",
    "LR = 2e-5"
   ],
   "metadata": {
    "collapsed": false,
    "ExecuteTime": {
     "start_time": "2023-08-08T20:29:13.699871Z",
     "end_time": "2023-08-08T20:29:13.701355Z"
    }
   }
  },
  {
   "cell_type": "code",
   "execution_count": 12,
   "outputs": [],
   "source": [
    "def train_epoch(\n",
    "        model,\n",
    "        data_loader,\n",
    "        loss_fn,\n",
    "        optimizer,\n",
    "        device,\n",
    "        scheduler,\n",
    "        n_examples\n",
    "):\n",
    "    model = model.train()\n",
    "\n",
    "    losses = []\n",
    "    correct_predictions = 0\n",
    "\n",
    "    for d in data_loader.dataset:\n",
    "        input_ids = d[\"input_ids\"].to(device)\n",
    "        attention_mask = d[\"attention_mask\"].to(device)\n",
    "        targets = d[\"sentiment\"].to(device)\n",
    "\n",
    "        outputs = model(\n",
    "            input_ids=input_ids,\n",
    "            attention_mask=attention_mask\n",
    "        )\n",
    "\n",
    "        _, preds = torch.max(outputs, dim=1)\n",
    "\n",
    "        loss = loss_fn(outputs[0], targets)\n",
    "\n",
    "        correct_predictions += torch.sum(preds == targets)\n",
    "        losses.append(loss.item())\n",
    "\n",
    "        loss.backward()\n",
    "        nn.utils.clip_grad_norm_(model.parameters(), max_norm=1.0)\n",
    "        optimizer.step()\n",
    "        scheduler.step()\n",
    "        optimizer.zero_grad()\n",
    "\n",
    "    return correct_predictions.double() / n_examples, np.mean(losses)\n",
    "\n",
    "\n",
    "def eval_model(model, data_loader, loss_fn, device, n_examples):\n",
    "    model = model.eval()\n",
    "\n",
    "    losses = []\n",
    "    correct_predictions = 0\n",
    "\n",
    "    with torch.no_grad():\n",
    "        for d in data_loader.dataset:\n",
    "            input_ids = d[\"input_ids\"].to(device)\n",
    "            attention_mask = d[\"attention_mask\"].to(device)\n",
    "            targets = d[\"sentiment\"].to(device)\n",
    "\n",
    "            outputs = model(\n",
    "                input_ids=input_ids,\n",
    "                attention_mask=attention_mask\n",
    "            )\n",
    "            _, preds = torch.max(outputs, dim=1)\n",
    "\n",
    "            loss = loss_fn(outputs.squeeze(0), targets)\n",
    "\n",
    "            correct_predictions += torch.sum(preds == targets)\n",
    "            losses.append(loss.item())\n",
    "\n",
    "    return correct_predictions.double() / n_examples, np.mean(losses)"
   ],
   "metadata": {
    "collapsed": false,
    "ExecuteTime": {
     "start_time": "2023-08-08T17:29:37.784162Z",
     "end_time": "2023-08-08T17:29:37.846761Z"
    }
   }
  },
  {
   "cell_type": "code",
   "execution_count": 13,
   "outputs": [],
   "source": [
    "from sklearn.model_selection import train_test_split\n",
    "\n",
    "RANDOM_SEED = 42\n",
    "\n",
    "def sep_data(dataframe: pd.DataFrame, test_size = 0.2) :\n",
    "    dataframe = dataframe.sample(frac=1)\n",
    "    df_train, df_test = train_test_split(dataframe, test_size=test_size, random_state=RANDOM_SEED)\n",
    "\n",
    "    return df_train, df_test\n",
    "\n",
    "def create_data_loaders(df_train, df_test):\n",
    "    train_data_loader: DataLoader = create_data_loader(df_train, tokenizer_bert, MAX_LEN, BATCH_SIZE)\n",
    "    test_data_loader = create_data_loader(df_test, tokenizer_bert, MAX_LEN, BATCH_SIZE)\n",
    "\n",
    "    return train_data_loader, test_data_loader"
   ],
   "metadata": {
    "collapsed": false,
    "ExecuteTime": {
     "start_time": "2023-08-08T17:29:37.847115Z",
     "end_time": "2023-08-08T17:29:37.941028Z"
    }
   }
  },
  {
   "cell_type": "code",
   "execution_count": 14,
   "outputs": [],
   "source": [
    "from transformers import get_linear_schedule_with_warmup\n",
    "\n",
    "def create_train_conf(len_df_train):\n",
    "    optimizer = torch.optim.AdamW(sentiment_model.parameters(), lr=LR)\n",
    "    total_steps = len_df_train * EPOCHS\n",
    "\n",
    "    scheduler = get_linear_schedule_with_warmup(\n",
    "        optimizer,\n",
    "        num_warmup_steps=0,\n",
    "        num_training_steps=total_steps\n",
    "    )\n",
    "\n",
    "    loss_fnr = nn.CrossEntropyLoss().to(device)\n",
    "\n",
    "    return optimizer, scheduler, loss_fnr"
   ],
   "metadata": {
    "collapsed": false,
    "ExecuteTime": {
     "start_time": "2023-08-08T17:29:37.942061Z",
     "end_time": "2023-08-08T17:29:38.028998Z"
    }
   }
  },
  {
   "cell_type": "markdown",
   "source": [
    "## Dados"
   ],
   "metadata": {
    "collapsed": false
   }
  },
  {
   "cell_type": "markdown",
   "source": [
    "### Pré-processamento"
   ],
   "metadata": {
    "collapsed": false
   }
  },
  {
   "cell_type": "code",
   "execution_count": 18,
   "outputs": [],
   "source": [
    "def normalize(text: pd.Series)-> pd.Series:\n",
    "    return text.str.lower()\n",
    "\n",
    "def remove_hashtags(df: pd.DataFrame):\n",
    "    df.clean_text.replace(r'#\\w+', ' ', regex=True, inplace=True)\n",
    "\n",
    "def remove_link(df: pd.DataFrame):\n",
    "    df.clean_text.replace(r'((?=(https://|http://))\\S+)', ' ', regex=True, inplace=True)\n",
    "\n",
    "def remove_tags(df: pd.DataFrame):\n",
    "    # Remove marcações com exceção das marcações às contas oficiais dos candidatos\n",
    "    df.clean_text.replace(r'@(?!(lulaoficial|jairbolsonaro|haddad_fernando))[^ ]*', ' ', regex=True, inplace=True)\n",
    "\n",
    "def sub_linebreak(df: pd.DataFrame):\n",
    "    df.clean_text.replace(r'\\n', ' ', regex=True, inplace=True)\n",
    "\n",
    "def remove_special_ch(df: pd.DataFrame):\n",
    "    # Remoção de caracteres especiais e saltos de linha\n",
    "    df.clean_text.replace(r'[^\\w ]', ' ', regex=True, inplace=True)\n",
    "\n",
    "def remove_rt(df: pd.DataFrame):\n",
    "    df.clean_text.replace(r'(?=(rt |RT ))[^ ]*', '', regex=True, inplace=True)\n",
    "\n",
    "def remove_empty(df: pd.DataFrame):\n",
    "    df.drop(df[df.clean_text.str.fullmatch(r'\\s*')].index, inplace=True)\n",
    "    df.reset_index(drop=True, inplace=True)\n",
    "\n",
    "def remove_len1(df: pd.DataFrame):\n",
    "    indexes = list()\n",
    "    for index, row in df.iterrows():\n",
    "        words = TweetTokenizer().tokenize(row['clean_text'])\n",
    "        if len(words) == 1:\n",
    "            indexes.append(index)\n",
    "    df.drop(indexes, inplace=True)\n",
    "\n",
    "def clean_whitespaces(df: pd.DataFrame):\n",
    "    df.clean_text.replace(r'  +', ' ', inplace=True, regex=True)\n",
    "    df.clean_text.replace(r'^ ', '', inplace=True, regex=True)"
   ],
   "metadata": {
    "collapsed": false,
    "ExecuteTime": {
     "start_time": "2023-08-08T20:08:10.838042Z",
     "end_time": "2023-08-08T20:08:10.878328Z"
    }
   }
  },
  {
   "cell_type": "code",
   "execution_count": 19,
   "outputs": [],
   "source": [
    "def preprocess(df_param: pd.DataFrame):\n",
    "    df = df_param.copy()\n",
    "    df['clean_text'] = normalize(df.text)\n",
    "    sub_linebreak(df)\n",
    "    remove_hashtags(df)\n",
    "    remove_link(df)\n",
    "    remove_tags(df)\n",
    "    remove_special_ch(df)\n",
    "    remove_rt(df)\n",
    "\n",
    "    clean_whitespaces(df)\n",
    "    remove_empty(df)\n",
    "    remove_len1(df)\n",
    "    return df"
   ],
   "metadata": {
    "collapsed": false,
    "ExecuteTime": {
     "start_time": "2023-08-08T20:08:11.053315Z",
     "end_time": "2023-08-08T20:08:11.064381Z"
    }
   }
  },
  {
   "cell_type": "code",
   "execution_count": 20,
   "outputs": [],
   "source": [
    "def to_sentiment(polaridade: str):\n",
    "    if polaridade == 'Negativo':\n",
    "        return 0\n",
    "    if polaridade == 'Positivo':\n",
    "        return 1"
   ],
   "metadata": {
    "collapsed": false,
    "ExecuteTime": {
     "start_time": "2023-08-08T20:08:11.556737Z",
     "end_time": "2023-08-08T20:08:11.560982Z"
    }
   }
  },
  {
   "cell_type": "markdown",
   "source": [
    "### Carregando dados"
   ],
   "metadata": {
    "collapsed": false
   }
  },
  {
   "cell_type": "code",
   "execution_count": 18,
   "outputs": [
    {
     "data": {
      "text/plain": "     Unnamed: 0  \\\n0             0   \n1             1   \n2             2   \n3             3   \n4             5   \n..          ...   \n405         506   \n406         507   \n407         508   \n408         509   \n409         510   \n\n                                                                                                                                                text  \\\n0     RT @LannesDelRey: O Brasil viu o quanto Bolsonaro é machista ao momento que foi falar que Renata recebia menos q william Bonner.\\n\\nSimplesme…   \n1       RT @ArthurValim: Se você viu o #BolsonaroNoJornalNacional e ainda pretende votar nele, você não entende nada de política, nada de humanidad…   \n2      RT @AnaBiapax: #BolsonaroNoJornalNacional \\nGeeentee isso é Barra da Tijuca 👇👇 Rio de Janeiro , Bolsonaroooo... é o povo clamando Mitooooooo…   \n3       RT @crisvillarinho: Os caras no shopping, pararam pra assistir o Bolsonaro. E tem gente que ainda acredita em pesquisa! #BolsonaroNoJornalN…   \n4        RT @Ro_Moller: Depois de ver a entrevista no JN, Globo News e toda repercussão no Twitter... Bolsonaro será ELEITO presidente por nocaute.…   \n..                                                                                                                                               ...   \n405  RT @nasseroficial: Não é pelo PT\\nNão é pelo Haddad\\n\\nÉ pelo bem maior que eu acredito, pela democracia e pela batalha de muitos que podem so…   \n406    RT @CarlaLukschal: Ordem e progresso é o que nós precisamos e queremos. 😎😎😎\\n#OBrasilVota17 #APesardoPToBrasilVaiVencerB17 https://t.co/L6H5…   \n407                                                                                 RT @Samucatezu1: Ae, essa foi a eleição mais triste que eu já vi   \n408     RT @blogdojefferson: Os petistas perdem uma eleição no voto, de forma legítima e incontestável, e Haddad vem falar que o partido vai contin…   \n409     RT @UJSBRASIL: Hoje é dia de bondade, liberdade e fraternidade. É dia de votar no professor. #Haddad13 #ManuNoJaburu #ViraVirouHaddad https…   \n\n    polaridade  sentiment  \\\n0     Negativo          0   \n1     Negativo          0   \n2     Positivo          1   \n3     Positivo          1   \n4     Positivo          1   \n..         ...        ...   \n405   Positivo          1   \n406   Positivo          1   \n407   Negativo          0   \n408   Negativo          0   \n409   Positivo          1   \n\n                                                                                                                   clean_text  \n0    o brasil viu o quanto bolsonaro é machista ao momento que foi falar que renata recebia menos q william bonner simplesme   \n1                              se você viu o e ainda pretende votar nele você não entende nada de política nada de humanidad   \n2                                   geeentee isso é barra da tijuca rio de janeiro bolsonaroooo é o povo clamando mitooooooo   \n3                           os caras no shopping pararam pra assistir o bolsonaro e tem gente que ainda acredita em pesquisa   \n4     depois de ver a entrevista no jn globo news e toda repercussão no twitter bolsonaro será eleito presidente por nocaute   \n..                                                                                                                        ...  \n405   não é pelo pt não é pelo haddad é pelo bem maior que eu acredito pela democracia e pela batalha de muitos que podem so   \n406                                                                      ordem e progresso é o que nós precisamos e queremos   \n407                                                                            ae essa foi a eleição mais triste que eu já vi  \n408     os petistas perdem uma eleição no voto de forma legítima e incontestável e haddad vem falar que o partido vai contin   \n409                                         hoje é dia de bondade liberdade e fraternidade é dia de votar no professor https   \n\n[410 rows x 5 columns]",
      "text/html": "<div>\n<style scoped>\n    .dataframe tbody tr th:only-of-type {\n        vertical-align: middle;\n    }\n\n    .dataframe tbody tr th {\n        vertical-align: top;\n    }\n\n    .dataframe thead th {\n        text-align: right;\n    }\n</style>\n<table border=\"1\" class=\"dataframe\">\n  <thead>\n    <tr style=\"text-align: right;\">\n      <th></th>\n      <th>Unnamed: 0</th>\n      <th>text</th>\n      <th>polaridade</th>\n      <th>sentiment</th>\n      <th>clean_text</th>\n    </tr>\n  </thead>\n  <tbody>\n    <tr>\n      <th>0</th>\n      <td>0</td>\n      <td>RT @LannesDelRey: O Brasil viu o quanto Bolsonaro é machista ao momento que foi falar que Renata recebia menos q william Bonner.\\n\\nSimplesme…</td>\n      <td>Negativo</td>\n      <td>0</td>\n      <td>o brasil viu o quanto bolsonaro é machista ao momento que foi falar que renata recebia menos q william bonner simplesme</td>\n    </tr>\n    <tr>\n      <th>1</th>\n      <td>1</td>\n      <td>RT @ArthurValim: Se você viu o #BolsonaroNoJornalNacional e ainda pretende votar nele, você não entende nada de política, nada de humanidad…</td>\n      <td>Negativo</td>\n      <td>0</td>\n      <td>se você viu o e ainda pretende votar nele você não entende nada de política nada de humanidad</td>\n    </tr>\n    <tr>\n      <th>2</th>\n      <td>2</td>\n      <td>RT @AnaBiapax: #BolsonaroNoJornalNacional \\nGeeentee isso é Barra da Tijuca 👇👇 Rio de Janeiro , Bolsonaroooo... é o povo clamando Mitooooooo…</td>\n      <td>Positivo</td>\n      <td>1</td>\n      <td>geeentee isso é barra da tijuca rio de janeiro bolsonaroooo é o povo clamando mitooooooo</td>\n    </tr>\n    <tr>\n      <th>3</th>\n      <td>3</td>\n      <td>RT @crisvillarinho: Os caras no shopping, pararam pra assistir o Bolsonaro. E tem gente que ainda acredita em pesquisa! #BolsonaroNoJornalN…</td>\n      <td>Positivo</td>\n      <td>1</td>\n      <td>os caras no shopping pararam pra assistir o bolsonaro e tem gente que ainda acredita em pesquisa</td>\n    </tr>\n    <tr>\n      <th>4</th>\n      <td>5</td>\n      <td>RT @Ro_Moller: Depois de ver a entrevista no JN, Globo News e toda repercussão no Twitter... Bolsonaro será ELEITO presidente por nocaute.…</td>\n      <td>Positivo</td>\n      <td>1</td>\n      <td>depois de ver a entrevista no jn globo news e toda repercussão no twitter bolsonaro será eleito presidente por nocaute</td>\n    </tr>\n    <tr>\n      <th>...</th>\n      <td>...</td>\n      <td>...</td>\n      <td>...</td>\n      <td>...</td>\n      <td>...</td>\n    </tr>\n    <tr>\n      <th>405</th>\n      <td>506</td>\n      <td>RT @nasseroficial: Não é pelo PT\\nNão é pelo Haddad\\n\\nÉ pelo bem maior que eu acredito, pela democracia e pela batalha de muitos que podem so…</td>\n      <td>Positivo</td>\n      <td>1</td>\n      <td>não é pelo pt não é pelo haddad é pelo bem maior que eu acredito pela democracia e pela batalha de muitos que podem so</td>\n    </tr>\n    <tr>\n      <th>406</th>\n      <td>507</td>\n      <td>RT @CarlaLukschal: Ordem e progresso é o que nós precisamos e queremos. 😎😎😎\\n#OBrasilVota17 #APesardoPToBrasilVaiVencerB17 https://t.co/L6H5…</td>\n      <td>Positivo</td>\n      <td>1</td>\n      <td>ordem e progresso é o que nós precisamos e queremos</td>\n    </tr>\n    <tr>\n      <th>407</th>\n      <td>508</td>\n      <td>RT @Samucatezu1: Ae, essa foi a eleição mais triste que eu já vi</td>\n      <td>Negativo</td>\n      <td>0</td>\n      <td>ae essa foi a eleição mais triste que eu já vi</td>\n    </tr>\n    <tr>\n      <th>408</th>\n      <td>509</td>\n      <td>RT @blogdojefferson: Os petistas perdem uma eleição no voto, de forma legítima e incontestável, e Haddad vem falar que o partido vai contin…</td>\n      <td>Negativo</td>\n      <td>0</td>\n      <td>os petistas perdem uma eleição no voto de forma legítima e incontestável e haddad vem falar que o partido vai contin</td>\n    </tr>\n    <tr>\n      <th>409</th>\n      <td>510</td>\n      <td>RT @UJSBRASIL: Hoje é dia de bondade, liberdade e fraternidade. É dia de votar no professor. #Haddad13 #ManuNoJaburu #ViraVirouHaddad https…</td>\n      <td>Positivo</td>\n      <td>1</td>\n      <td>hoje é dia de bondade liberdade e fraternidade é dia de votar no professor https</td>\n    </tr>\n  </tbody>\n</table>\n<p>410 rows × 5 columns</p>\n</div>"
     },
     "execution_count": 18,
     "metadata": {},
     "output_type": "execute_result"
    }
   ],
   "source": [
    "tweets = pd.read_csv('tweets.csv')\n",
    "tweets['sentiment'] = tweets.polaridade.apply(to_sentiment)\n",
    "tweets.drop_duplicates(subset=['text'], inplace=True)\n",
    "tweets = preprocess(tweets)\n",
    "\n",
    "tweets"
   ],
   "metadata": {
    "collapsed": false,
    "ExecuteTime": {
     "start_time": "2023-08-08T17:29:38.259038Z",
     "end_time": "2023-08-08T17:29:38.499681Z"
    }
   }
  },
  {
   "cell_type": "markdown",
   "source": [
    "### Treinamento"
   ],
   "metadata": {
    "collapsed": false
   }
  },
  {
   "cell_type": "code",
   "execution_count": 19,
   "outputs": [
    {
     "name": "stdout",
     "output_type": "stream",
     "text": [
      "Epoch 1/5\n",
      "----------\n",
      "Train loss 1.0104178471615675 accuracy 0.5914634146341463\n",
      "Val   loss 1.0160006676437106 accuracy 0.7560975609756098\n",
      "\n",
      "Epoch 2/5\n",
      "----------\n",
      "Train loss 0.7421595931082265 accuracy 0.8231707317073171\n",
      "Val   loss 1.1114271556228832 accuracy 0.7682926829268293\n",
      "\n",
      "Epoch 3/5\n",
      "----------\n",
      "Train loss 0.27795486783192824 accuracy 0.9390243902439025\n",
      "Val   loss 1.3987644009949447 accuracy 0.7560975609756098\n",
      "\n",
      "Epoch 4/5\n",
      "----------\n",
      "Train loss 0.09127135460882373 accuracy 0.9725609756097562\n",
      "Val   loss 1.6051008149826396 accuracy 0.7317073170731707\n",
      "\n",
      "Epoch 5/5\n",
      "----------\n",
      "Train loss 0.053721540902543205 accuracy 0.9878048780487805\n",
      "Val   loss 1.6463157889396294 accuracy 0.7317073170731707\n",
      "\n",
      "CPU times: user 2min 9s, sys: 769 ms, total: 2min 9s\n",
      "Wall time: 2min 18s\n"
     ]
    }
   ],
   "source": [
    "%%time\n",
    "\n",
    "history = defaultdict(list)\n",
    "best_accuracy = 0\n",
    "loss_for_best_acc = 20\n",
    "\n",
    "df_train, df_val = sep_data(tweets)\n",
    "\n",
    "train_data_loader, val_data_loader = create_data_loaders(df_train, df_val)\n",
    "optimizer, scheduler, loss_fn = create_train_conf(len(df_train))\n",
    "\n",
    "for epoch in range(EPOCHS):\n",
    "\n",
    "    print(f'Epoch {epoch + 1}/{EPOCHS}')\n",
    "    print('-' * 10)\n",
    "\n",
    "    train_acc, train_loss = train_epoch(\n",
    "        sentiment_model,\n",
    "        train_data_loader,\n",
    "        loss_fn,\n",
    "        optimizer,\n",
    "        device,\n",
    "        scheduler,\n",
    "        len(df_train)\n",
    "    )\n",
    "\n",
    "    print(f'Train loss {train_loss} accuracy {train_acc}')\n",
    "\n",
    "    val_acc, val_loss = eval_model(\n",
    "        sentiment_model,\n",
    "        val_data_loader,\n",
    "        loss_fn,\n",
    "        device,\n",
    "        len(df_val)\n",
    "    )\n",
    "\n",
    "    print(f'Val   loss {val_loss} accuracy {val_acc}')\n",
    "    print()\n",
    "\n",
    "    history['train_acc'].append(train_acc.cpu())\n",
    "    history['train_loss'].append(train_loss)\n",
    "    history['val_acc'].append(val_acc.cpu())\n",
    "    history['val_loss'].append(val_loss)\n",
    "\n",
    "    if val_acc > best_accuracy or (val_acc == best_accuracy and val_loss < loss_for_best_acc):\n",
    "        torch.save(sentiment_model.state_dict(), 'best_model.bin')\n",
    "        best_accuracy = val_acc\n",
    "        loss_for_best_acc = val_loss"
   ],
   "metadata": {
    "collapsed": false,
    "ExecuteTime": {
     "start_time": "2023-08-08T17:29:38.483898Z",
     "end_time": "2023-08-08T17:31:57.100100Z"
    }
   }
  },
  {
   "cell_type": "markdown",
   "source": [
    "## Métricas"
   ],
   "metadata": {
    "collapsed": false
   }
  },
  {
   "cell_type": "markdown",
   "source": [
    "**Acurácia**"
   ],
   "metadata": {
    "collapsed": false
   }
  },
  {
   "cell_type": "code",
   "execution_count": 20,
   "outputs": [
    {
     "data": {
      "text/plain": "<Figure size 640x480 with 1 Axes>",
      "image/png": "[encoded data removed]"
     },
     "metadata": {},
     "output_type": "display_data"
    }
   ],
   "source": [
    "plt.plot(history['train_acc'], label='train accuracy')\n",
    "plt.plot(history['val_acc'], label='validation accuracy')\n",
    "\n",
    "plt.title('Training history')\n",
    "plt.ylabel('Accuracy')\n",
    "plt.xlabel('Epoch')\n",
    "plt.legend()\n",
    "plt.ylim([0, 1]);"
   ],
   "metadata": {
    "collapsed": false,
    "ExecuteTime": {
     "start_time": "2023-08-08T17:31:57.101115Z",
     "end_time": "2023-08-08T17:31:57.283864Z"
    }
   }
  },
  {
   "cell_type": "markdown",
   "source": [
    "**Loss**"
   ],
   "metadata": {
    "collapsed": false
   }
  },
  {
   "cell_type": "code",
   "execution_count": 21,
   "outputs": [
    {
     "data": {
      "text/plain": "<matplotlib.legend.Legend at 0x7fdac10a2560>"
     },
     "execution_count": 21,
     "metadata": {},
     "output_type": "execute_result"
    },
    {
     "data": {
      "text/plain": "<Figure size 640x480 with 1 Axes>",
      "image/png": "[encoded data removed]"
     },
     "metadata": {},
     "output_type": "display_data"
    }
   ],
   "source": [
    "plt.plot(history['train_loss'], label='train loss')\n",
    "plt.plot(history['val_loss'], label='validation loss')\n",
    "\n",
    "plt.title('Training history')\n",
    "plt.ylabel('Loss')\n",
    "plt.xlabel('Epoch')\n",
    "plt.legend()"
   ],
   "metadata": {
    "collapsed": false,
    "ExecuteTime": {
     "start_time": "2023-08-08T17:31:57.267883Z",
     "end_time": "2023-08-08T17:31:57.368533Z"
    }
   }
  },
  {
   "cell_type": "markdown",
   "source": [
    "## Métricas"
   ],
   "metadata": {
    "collapsed": false
   }
  },
  {
   "cell_type": "code",
   "execution_count": null,
   "outputs": [],
   "source": [
    "model_val = SentimentClassifier(len(class_names))\n",
    "model_val.load_state_dict(torch.load('best_model.bin'))\n",
    "model_val = model_val.to(device)"
   ],
   "metadata": {
    "collapsed": false
   }
  },
  {
   "cell_type": "code",
   "execution_count": 116,
   "outputs": [],
   "source": [
    "def get_predictions(model, data_loader):\n",
    "    model = model.eval()\n",
    "\n",
    "    review_texts = []\n",
    "    predictions = []\n",
    "    prediction_probs = []\n",
    "    real_values = []\n",
    "\n",
    "    with torch.no_grad():\n",
    "        for d in data_loader.dataset:\n",
    "            texts = d[\"clean_text\"]\n",
    "            input_ids = d[\"input_ids\"].to(device)\n",
    "            attention_mask = d[\"attention_mask\"].to(device)\n",
    "            targets = d[\"sentiment\"].to(device)\n",
    "\n",
    "            outputs = model(input_ids=input_ids,\n",
    "                            attention_mask=attention_mask)\n",
    "\n",
    "            _, preds = torch.max(outputs, dim=1)\n",
    "\n",
    "            probs = F.softmax(outputs, dim=1)\n",
    "\n",
    "            review_texts.append(texts)\n",
    "            predictions.extend(preds)\n",
    "            prediction_probs.extend(probs)\n",
    "            real_values.extend(targets.unsqueeze(0))\n",
    "\n",
    "    predictions = torch.stack(predictions).cpu()\n",
    "    prediction_probs = torch.stack(prediction_probs).cpu()\n",
    "    real_values = torch.stack(real_values).cpu()\n",
    "    return review_texts, predictions, prediction_probs, real_values"
   ],
   "metadata": {
    "collapsed": false,
    "ExecuteTime": {
     "start_time": "2023-08-08T19:50:46.497384Z",
     "end_time": "2023-08-08T19:50:46.549707Z"
    }
   }
  },
  {
   "cell_type": "code",
   "execution_count": 117,
   "outputs": [],
   "source": [
    "y_review_texts, y_pred, y_pred_probs, y_test = get_predictions(model_val, val_data_loader)"
   ],
   "metadata": {
    "collapsed": false,
    "ExecuteTime": {
     "start_time": "2023-08-08T19:50:46.701887Z",
     "end_time": "2023-08-08T19:50:47.288040Z"
    }
   }
  },
  {
   "cell_type": "code",
   "execution_count": 121,
   "outputs": [
    {
     "data": {
      "text/plain": "<Figure size 640x480 with 2 Axes>",
      "image/png": "[encoded data removed]"
     },
     "metadata": {},
     "output_type": "display_data"
    }
   ],
   "source": [
    "import numpy as np\n",
    "from sklearn.metrics import confusion_matrix\n",
    "def show_confusion_matrix(confusion_matrix):\n",
    "    hmap = sns.heatmap(confusion_matrix, annot=True, fmt=\"d\", cmap=\"Blues\")\n",
    "    hmap.yaxis.set_ticklabels(hmap.yaxis.get_ticklabels(), rotation=0, ha='right')\n",
    "    hmap.xaxis.set_ticklabels(hmap.xaxis.get_ticklabels(), rotation=30, ha='right')\n",
    "    plt.ylabel('Sentimento verdadeiro')\n",
    "    plt.xlabel('Sentimento previsto')\n",
    "\n",
    "cm = confusion_matrix(y_test, y_pred)\n",
    "df_cm = pd.DataFrame(cm, index=class_names, columns=class_names)\n",
    "show_confusion_matrix(df_cm)"
   ],
   "metadata": {
    "collapsed": false,
    "ExecuteTime": {
     "start_time": "2023-08-08T19:51:03.716351Z",
     "end_time": "2023-08-08T19:51:03.854856Z"
    }
   }
  },
  {
   "cell_type": "code",
   "execution_count": 120,
   "outputs": [
    {
     "name": "stdout",
     "output_type": "stream",
     "text": [
      "              precision    recall  f1-score   support\n",
      "\n",
      "    Negativo       0.77      0.79      0.78        43\n",
      "    Positivo       0.76      0.74      0.75        39\n",
      "\n",
      "    accuracy                           0.77        82\n",
      "   macro avg       0.77      0.77      0.77        82\n",
      "weighted avg       0.77      0.77      0.77        82\n",
      "\n"
     ]
    }
   ],
   "source": [
    "from sklearn.metrics import classification_report\n",
    "\n",
    "print(classification_report(y_test, y_pred, target_names=class_names))"
   ],
   "metadata": {
    "collapsed": false,
    "ExecuteTime": {
     "start_time": "2023-08-08T19:51:01.811424Z",
     "end_time": "2023-08-08T19:51:01.818704Z"
    }
   }
  },
  {
   "cell_type": "markdown",
   "source": [
    "## Previsão"
   ],
   "metadata": {
    "collapsed": false
   }
  },
  {
   "cell_type": "markdown",
   "source": [
    "Carregando o modelo"
   ],
   "metadata": {
    "collapsed": false
   }
  },
  {
   "cell_type": "code",
   "execution_count": 21,
   "outputs": [],
   "source": [
    "model = SentimentClassifier(len(class_names))\n",
    "model.load_state_dict(torch.load('best_model.bin'))\n",
    "model = model.to(device)"
   ],
   "metadata": {
    "collapsed": false,
    "ExecuteTime": {
     "start_time": "2023-08-08T20:08:23.762710Z",
     "end_time": "2023-08-08T20:08:25.224272Z"
    }
   }
  },
  {
   "cell_type": "markdown",
   "source": [
    "Carregando os dados para previsão"
   ],
   "metadata": {
    "collapsed": false
   }
  },
  {
   "cell_type": "code",
   "execution_count": 22,
   "outputs": [],
   "source": [
    "tweets_prev = pd.read_csv('2Turno.csv', dtype= {'Coordenadas': 'str'})\n",
    "tweets_prev.drop(columns=['Usuario', 'Localizacao', 'Coordenadas'], inplace=True)\n",
    "tweets_prev.rename({'Mensagem': 'text'}, axis=1, inplace=True)\n",
    "\n",
    "tweets_prev.dropna(subset=['text'], inplace=True)\n",
    "\n",
    "tweets_prev = preprocess(tweets_prev)"
   ],
   "metadata": {
    "collapsed": false,
    "ExecuteTime": {
     "start_time": "2023-08-08T20:08:27.594036Z",
     "end_time": "2023-08-08T20:09:19.837880Z"
    }
   }
  },
  {
   "cell_type": "code",
   "execution_count": 14,
   "outputs": [],
   "source": [
    "#Bolsonaro\n",
    "bwords = ['jair', 'bolsonaro']\n",
    "\n",
    "#Haddad\n",
    "hwords = ['haddad', 'lula']"
   ],
   "metadata": {
    "collapsed": false,
    "ExecuteTime": {
     "start_time": "2023-08-08T20:29:41.027290Z",
     "end_time": "2023-08-08T20:29:41.071075Z"
    }
   }
  },
  {
   "cell_type": "code",
   "execution_count": 24,
   "outputs": [
    {
     "name": "stdout",
     "output_type": "stream",
     "text": [
      "Quantidade de tweets que citam Bolsonaro: 72699\n"
     ]
    }
   ],
   "source": [
    "tweets_bolsonaro = tweets_prev[tweets_prev.clean_text.str.contains('|'.join(bwords))]\n",
    "print('Quantidade de tweets que citam Bolsonaro:', len(tweets_bolsonaro))"
   ],
   "metadata": {
    "collapsed": false,
    "ExecuteTime": {
     "start_time": "2023-08-08T20:09:23.648834Z",
     "end_time": "2023-08-08T20:09:24.228737Z"
    }
   }
  },
  {
   "cell_type": "code",
   "execution_count": 25,
   "outputs": [
    {
     "name": "stdout",
     "output_type": "stream",
     "text": [
      "Quantidade de tweets que citam Haddad: 47889\n"
     ]
    }
   ],
   "source": [
    "tweets_haddad = tweets_prev[tweets_prev.clean_text.str.contains('|'.join(hwords))]\n",
    "print('Quantidade de tweets que citam Haddad:', len(tweets_haddad))"
   ],
   "metadata": {
    "collapsed": false,
    "ExecuteTime": {
     "start_time": "2023-08-08T20:09:24.256085Z",
     "end_time": "2023-08-08T20:09:24.757211Z"
    }
   }
  },
  {
   "cell_type": "code",
   "execution_count": 26,
   "outputs": [
    {
     "name": "stdout",
     "output_type": "stream",
     "text": [
      "Quantidade de tweets que citam algum dos 2 candidatos: 107582\n"
     ]
    }
   ],
   "source": [
    "indexes = set(tweets_bolsonaro.index)\n",
    "indexes = indexes.union(tweets_haddad.index)\n",
    "print('Quantidade de tweets que citam algum dos 2 candidatos:', len(indexes))"
   ],
   "metadata": {
    "collapsed": false,
    "ExecuteTime": {
     "start_time": "2023-08-08T20:09:24.763324Z",
     "end_time": "2023-08-08T20:09:24.804299Z"
    }
   }
  },
  {
   "cell_type": "code",
   "execution_count": 27,
   "outputs": [],
   "source": [
    "tweets_prev.drop(index=tweets_prev.index.difference(indexes), inplace=True)"
   ],
   "metadata": {
    "collapsed": false,
    "ExecuteTime": {
     "start_time": "2023-08-08T20:09:24.804124Z",
     "end_time": "2023-08-08T20:09:24.945829Z"
    }
   }
  },
  {
   "cell_type": "code",
   "execution_count": 28,
   "outputs": [
    {
     "data": {
      "text/plain": "                                                                                                                                                    text  \\\n2           RT @Kaio1908: Sou nordestino, eleitor do Bolsonaro, nunca votei no PT, nunca apoiei a esquerda. Voto no Bolsonaro, pq acredito em uma melho…   \n8                       RT @vtsbotafogo: Nem juntando duas hashtags eles conseguem os de Bolsonaro. kkkkkkkkkkkkk #OBrasilVota17 https://t.co/ha4FbijvBZ   \n10                                             RT @chrisPLgalvao: #OBrasilVota17!\\nBolsonaro será o presidente do Brasil!\\nAmém! https://t.co/WrLZLsjcQg   \n23           RT @ricado_burgari: GALERA URGENTE ESTA CIRCULANDO QUE A CAMPANHA DE BOLSONARO ESTA PEDINDO PARA ENVIAR O COMPROVANTE DE VOTO COM O NUMERO…   \n25      RT @artur_slo: #OBrasilVota17 \\nPronto para gritar duas coisas hoje.\\n\"É Bolsonaro! Viva o Brasil.\"\\n\"É fraude! Vamos para as ruas.\"\\nNão tem h…   \n...                                                                                                                                                  ...   \n601789                               RT @Estadao: Mensaleiro Roberto Jefferson celebra eleição de Bolsonaro: ‘A vitória é nossa’ https://t.co/fny2GASMCA   \n601790      RT @conexaopolitica: VÍDEO: Assista ao exato momento em que @jairbolsonaro recebeu o resultado oficial das Eleições 2018; o candidato do PS…   \n601791      RT @rosemarywarde: @Haddad_Fernando  VOCÊ VAI SAIR GRANDE DESSAS ELEIÇÕES , VOCÊ FOI GUERREIRO FOI FIEL A TODOS SEUS PRINCÍPIOS ,ME SINTO O…   \n601794      RT @bellamoura18: Pós a declaração de vitoria de Jair Messias Bolsonaro ser declarada, eu proponho um twitaço para lembrar todos os \"artist…   \n601799      Após a eleição de Jair Bolsonaro, o presidente do STF, Dias Toffoli conclamou a união do país e lembrou, em tom exa… https://t.co/PGDMH4T2bV   \n\n                                                                                                                       clean_text  \n2       sou nordestino eleitor do bolsonaro nunca votei no pt nunca apoiei a esquerda voto no bolsonaro pq acredito em uma melho   \n8                                                        nem juntando duas hashtags eles conseguem os de bolsonaro kkkkkkkkkkkkk   \n10                                                                                    bolsonaro será o presidente do brasil amém   \n23        galera urgente esta circulando que a campanha de bolsonaro esta pedindo para enviar o comprovante de voto com o numero   \n25                           pronto para gritar duas coisas hoje é bolsonaro viva o brasil é fraude vamos para as ruas não tem h   \n...                                                                                                                           ...  \n601789                                               mensaleiro roberto jefferson celebra eleição de bolsonaro a vitória é nossa   \n601790       vídeo assista ao exato momento em que jairbolsonaro recebeu o resultado oficial das eleições 2018 o candidato do ps   \n601791       haddad_fernando você vai sair grande dessas eleições você foi guerreiro foi fiel a todos seus princípios me sinto o   \n601794   pós a declaração de vitoria de jair messias bolsonaro ser declarada eu proponho um twitaço para lembrar todos os artist   \n601799          após a eleição de jair bolsonaro o presidente do stf dias toffoli conclamou a união do país e lembrou em tom exa   \n\n[107582 rows x 2 columns]",
      "text/html": "<div>\n<style scoped>\n    .dataframe tbody tr th:only-of-type {\n        vertical-align: middle;\n    }\n\n    .dataframe tbody tr th {\n        vertical-align: top;\n    }\n\n    .dataframe thead th {\n        text-align: right;\n    }\n</style>\n<table border=\"1\" class=\"dataframe\">\n  <thead>\n    <tr style=\"text-align: right;\">\n      <th></th>\n      <th>text</th>\n      <th>clean_text</th>\n    </tr>\n  </thead>\n  <tbody>\n    <tr>\n      <th>2</th>\n      <td>RT @Kaio1908: Sou nordestino, eleitor do Bolsonaro, nunca votei no PT, nunca apoiei a esquerda. Voto no Bolsonaro, pq acredito em uma melho…</td>\n      <td>sou nordestino eleitor do bolsonaro nunca votei no pt nunca apoiei a esquerda voto no bolsonaro pq acredito em uma melho</td>\n    </tr>\n    <tr>\n      <th>8</th>\n      <td>RT @vtsbotafogo: Nem juntando duas hashtags eles conseguem os de Bolsonaro. kkkkkkkkkkkkk #OBrasilVota17 https://t.co/ha4FbijvBZ</td>\n      <td>nem juntando duas hashtags eles conseguem os de bolsonaro kkkkkkkkkkkkk</td>\n    </tr>\n    <tr>\n      <th>10</th>\n      <td>RT @chrisPLgalvao: #OBrasilVota17!\\nBolsonaro será o presidente do Brasil!\\nAmém! https://t.co/WrLZLsjcQg</td>\n      <td>bolsonaro será o presidente do brasil amém</td>\n    </tr>\n    <tr>\n      <th>23</th>\n      <td>RT @ricado_burgari: GALERA URGENTE ESTA CIRCULANDO QUE A CAMPANHA DE BOLSONARO ESTA PEDINDO PARA ENVIAR O COMPROVANTE DE VOTO COM O NUMERO…</td>\n      <td>galera urgente esta circulando que a campanha de bolsonaro esta pedindo para enviar o comprovante de voto com o numero</td>\n    </tr>\n    <tr>\n      <th>25</th>\n      <td>RT @artur_slo: #OBrasilVota17 \\nPronto para gritar duas coisas hoje.\\n\"É Bolsonaro! Viva o Brasil.\"\\n\"É fraude! Vamos para as ruas.\"\\nNão tem h…</td>\n      <td>pronto para gritar duas coisas hoje é bolsonaro viva o brasil é fraude vamos para as ruas não tem h</td>\n    </tr>\n    <tr>\n      <th>...</th>\n      <td>...</td>\n      <td>...</td>\n    </tr>\n    <tr>\n      <th>601789</th>\n      <td>RT @Estadao: Mensaleiro Roberto Jefferson celebra eleição de Bolsonaro: ‘A vitória é nossa’ https://t.co/fny2GASMCA</td>\n      <td>mensaleiro roberto jefferson celebra eleição de bolsonaro a vitória é nossa</td>\n    </tr>\n    <tr>\n      <th>601790</th>\n      <td>RT @conexaopolitica: VÍDEO: Assista ao exato momento em que @jairbolsonaro recebeu o resultado oficial das Eleições 2018; o candidato do PS…</td>\n      <td>vídeo assista ao exato momento em que jairbolsonaro recebeu o resultado oficial das eleições 2018 o candidato do ps</td>\n    </tr>\n    <tr>\n      <th>601791</th>\n      <td>RT @rosemarywarde: @Haddad_Fernando  VOCÊ VAI SAIR GRANDE DESSAS ELEIÇÕES , VOCÊ FOI GUERREIRO FOI FIEL A TODOS SEUS PRINCÍPIOS ,ME SINTO O…</td>\n      <td>haddad_fernando você vai sair grande dessas eleições você foi guerreiro foi fiel a todos seus princípios me sinto o</td>\n    </tr>\n    <tr>\n      <th>601794</th>\n      <td>RT @bellamoura18: Pós a declaração de vitoria de Jair Messias Bolsonaro ser declarada, eu proponho um twitaço para lembrar todos os \"artist…</td>\n      <td>pós a declaração de vitoria de jair messias bolsonaro ser declarada eu proponho um twitaço para lembrar todos os artist</td>\n    </tr>\n    <tr>\n      <th>601799</th>\n      <td>Após a eleição de Jair Bolsonaro, o presidente do STF, Dias Toffoli conclamou a união do país e lembrou, em tom exa… https://t.co/PGDMH4T2bV</td>\n      <td>após a eleição de jair bolsonaro o presidente do stf dias toffoli conclamou a união do país e lembrou em tom exa</td>\n    </tr>\n  </tbody>\n</table>\n<p>107582 rows × 2 columns</p>\n</div>"
     },
     "execution_count": 28,
     "metadata": {},
     "output_type": "execute_result"
    }
   ],
   "source": [
    "tweets_prev"
   ],
   "metadata": {
    "collapsed": false,
    "ExecuteTime": {
     "start_time": "2023-08-08T20:09:24.946121Z",
     "end_time": "2023-08-08T20:09:25.177500Z"
    }
   }
  },
  {
   "cell_type": "markdown",
   "source": [
    "**Criando a estruturação para a previsão**"
   ],
   "metadata": {
    "collapsed": false
   }
  },
  {
   "cell_type": "code",
   "execution_count": 29,
   "outputs": [],
   "source": [
    "tweets_prev_data_loader = create_data_loader(tweets_prev, tokenizer_bert, MAX_LEN, BATCH_SIZE)"
   ],
   "metadata": {
    "collapsed": false,
    "ExecuteTime": {
     "start_time": "2023-08-08T20:09:25.061090Z",
     "end_time": "2023-08-08T20:09:25.187976Z"
    }
   }
  },
  {
   "cell_type": "markdown",
   "source": [
    "**Método para previsão dos dados**"
   ],
   "metadata": {
    "collapsed": false
   }
  },
  {
   "cell_type": "code",
   "execution_count": 30,
   "outputs": [],
   "source": [
    "def get_predictions(model, data_loader):\n",
    "    model = model.eval()\n",
    "\n",
    "    texts = []\n",
    "    clean_texts = []\n",
    "    predictions = []\n",
    "\n",
    "    with torch.no_grad():\n",
    "        for d in data_loader.dataset:\n",
    "            text = d[\"text\"]\n",
    "            clean_text = d[\"clean_text\"]\n",
    "            input_ids = d[\"input_ids\"].to(device)\n",
    "            attention_mask = d[\"attention_mask\"].to(device)\n",
    "\n",
    "            outputs = model(input_ids=input_ids,\n",
    "                            attention_mask=attention_mask)\n",
    "\n",
    "            _, preds = torch.max(outputs, dim=1)\n",
    "\n",
    "            texts.append(text)\n",
    "            clean_texts.append(clean_text)\n",
    "            predictions.extend(preds)\n",
    "\n",
    "    predictions = torch.stack(predictions).cpu()\n",
    "\n",
    "    return pd.DataFrame({'text': texts, 'clean_text': clean_texts, 'sentiment': predictions})"
   ],
   "metadata": {
    "collapsed": false,
    "ExecuteTime": {
     "start_time": "2023-08-08T20:09:25.100210Z",
     "end_time": "2023-08-08T20:09:25.222928Z"
    }
   }
  },
  {
   "cell_type": "markdown",
   "source": [
    "**Previsão**"
   ],
   "metadata": {
    "collapsed": false
   }
  },
  {
   "cell_type": "code",
   "execution_count": 31,
   "outputs": [
    {
     "name": "stdout",
     "output_type": "stream",
     "text": [
      "CPU times: user 10min 55s, sys: 474 ms, total: 10min 55s\n",
      "Wall time: 10min 58s\n"
     ]
    }
   ],
   "source": [
    "%%time\n",
    "preds = get_predictions(model, tweets_prev_data_loader)"
   ],
   "metadata": {
    "collapsed": false,
    "ExecuteTime": {
     "start_time": "2023-08-08T20:09:25.223509Z",
     "end_time": "2023-08-08T20:20:24.311426Z"
    }
   }
  },
  {
   "cell_type": "code",
   "execution_count": 17,
   "outputs": [],
   "source": [
    "def to_polarity(sentiment: int):\n",
    "    if sentiment == 0:\n",
    "        return 'Negativo'\n",
    "    if sentiment == 1:\n",
    "        return 'Positivo'"
   ],
   "metadata": {
    "collapsed": false,
    "ExecuteTime": {
     "start_time": "2023-08-08T20:29:50.171749Z",
     "end_time": "2023-08-08T20:29:50.174011Z"
    }
   }
  },
  {
   "cell_type": "code",
   "execution_count": 33,
   "outputs": [],
   "source": [
    "preds.to_csv('results.csv', index=False)"
   ],
   "metadata": {
    "collapsed": false,
    "ExecuteTime": {
     "start_time": "2023-08-08T20:20:24.287684Z",
     "end_time": "2023-08-08T20:20:24.741743Z"
    }
   }
  },
  {
   "cell_type": "code",
   "execution_count": 12,
   "outputs": [],
   "source": [
    "preds = pd.read_csv('results.csv')"
   ],
   "metadata": {
    "collapsed": false,
    "ExecuteTime": {
     "start_time": "2023-08-08T20:29:30.863434Z",
     "end_time": "2023-08-08T20:29:31.065410Z"
    }
   }
  },
  {
   "cell_type": "code",
   "execution_count": 19,
   "outputs": [],
   "source": [
    "df = preds.copy()\n",
    "df.loc[df.clean_text.str.contains('|'.join(hwords)), 'label'] = 'Haddad'\n",
    "df.loc[df.clean_text.str.contains('|'.join(bwords)), 'label'] = 'Bolsonaro'"
   ],
   "metadata": {
    "collapsed": false,
    "ExecuteTime": {
     "start_time": "2023-08-08T20:30:04.645820Z",
     "end_time": "2023-08-08T20:30:04.781154Z"
    }
   }
  },
  {
   "cell_type": "code",
   "execution_count": 20,
   "outputs": [],
   "source": [
    "df = df.drop(columns=['text', 'clean_text']).groupby('label').value_counts().reset_index(name = 'amount')\n",
    "df['Sentimento'] = df.sentiment.apply(to_polarity)"
   ],
   "metadata": {
    "collapsed": false,
    "ExecuteTime": {
     "start_time": "2023-08-08T20:30:05.073512Z",
     "end_time": "2023-08-08T20:30:05.138146Z"
    }
   }
  },
  {
   "cell_type": "code",
   "execution_count": 21,
   "outputs": [
    {
     "data": {
      "text/plain": "       label  sentiment  amount Sentimento\n0  Bolsonaro          1   45625   Positivo\n1  Bolsonaro          0   27074   Negativo\n2     Haddad          1   28405   Positivo\n3     Haddad          0    6478   Negativo",
      "text/html": "<div>\n<style scoped>\n    .dataframe tbody tr th:only-of-type {\n        vertical-align: middle;\n    }\n\n    .dataframe tbody tr th {\n        vertical-align: top;\n    }\n\n    .dataframe thead th {\n        text-align: right;\n    }\n</style>\n<table border=\"1\" class=\"dataframe\">\n  <thead>\n    <tr style=\"text-align: right;\">\n      <th></th>\n      <th>label</th>\n      <th>sentiment</th>\n      <th>amount</th>\n      <th>Sentimento</th>\n    </tr>\n  </thead>\n  <tbody>\n    <tr>\n      <th>0</th>\n      <td>Bolsonaro</td>\n      <td>1</td>\n      <td>45625</td>\n      <td>Positivo</td>\n    </tr>\n    <tr>\n      <th>1</th>\n      <td>Bolsonaro</td>\n      <td>0</td>\n      <td>27074</td>\n      <td>Negativo</td>\n    </tr>\n    <tr>\n      <th>2</th>\n      <td>Haddad</td>\n      <td>1</td>\n      <td>28405</td>\n      <td>Positivo</td>\n    </tr>\n    <tr>\n      <th>3</th>\n      <td>Haddad</td>\n      <td>0</td>\n      <td>6478</td>\n      <td>Negativo</td>\n    </tr>\n  </tbody>\n</table>\n</div>"
     },
     "execution_count": 21,
     "metadata": {},
     "output_type": "execute_result"
    }
   ],
   "source": [
    "df"
   ],
   "metadata": {
    "collapsed": false,
    "ExecuteTime": {
     "start_time": "2023-08-08T20:30:06.407104Z",
     "end_time": "2023-08-08T20:30:06.414239Z"
    }
   }
  },
  {
   "cell_type": "markdown",
   "source": [
    "## Plot dos resultados"
   ],
   "metadata": {
    "collapsed": false
   }
  },
  {
   "cell_type": "markdown",
   "source": [
    "**Quantidades totais por sentimento**"
   ],
   "metadata": {
    "collapsed": false
   }
  },
  {
   "cell_type": "code",
   "execution_count": 22,
   "outputs": [
    {
     "data": {
      "text/plain": "<Figure size 612.5x500 with 1 Axes>",
      "image/png": "[encoded data removed]"
     },
     "metadata": {},
     "output_type": "display_data"
    }
   ],
   "source": [
    "import seaborn as sns\n",
    "\n",
    "sns.set_style(\"whitegrid\")\n",
    "\n",
    "green = '#00FF7F'\n",
    "red = '#FF3333'\n",
    "colors = sns.set_palette([red, green])\n",
    "\n",
    "hue_order = ['Negativo', 'Positivo']\n",
    "\n",
    "g = sns.catplot(data=df, x = 'label', y = 'amount', hue='Sentimento', hue_order=hue_order, kind='bar', palette=colors)\n",
    "\n",
    "g.ax.set(title = 'Tweets')\n",
    "\n",
    "for p in g.ax.patches:\n",
    "    txt = str(int(p.get_height()))\n",
    "    txt_x = p.get_x() + p.get_width()/2\n",
    "    txt_y = p.get_height()\n",
    "    g.ax.text(txt_x,txt_y,txt, ha = 'center')"
   ],
   "metadata": {
    "collapsed": false,
    "ExecuteTime": {
     "start_time": "2023-08-08T20:30:15.786610Z",
     "end_time": "2023-08-08T20:30:16.054538Z"
    }
   }
  },
  {
   "cell_type": "markdown",
   "source": [
    "**Porcentagem de positivos por candidato**"
   ],
   "metadata": {
    "collapsed": false
   }
  },
  {
   "cell_type": "code",
   "execution_count": 23,
   "outputs": [],
   "source": [
    "df = preds.copy()\n",
    "df = df.loc[df.sentiment == 1]\n",
    "df.loc[df.clean_text.str.contains('|'.join(hwords)), 'label'] = 'Haddad'\n",
    "df.loc[df.clean_text.str.contains('|'.join(bwords)), 'label'] = 'Bolsonaro'\n",
    "\n",
    "df = df.drop(columns=['text', 'clean_text']).groupby('sentiment').value_counts(normalize=True).reset_index(name = 'percent')\n",
    "df['percent'] = df['percent'].apply(lambda x: x*100)"
   ],
   "metadata": {
    "collapsed": false,
    "ExecuteTime": {
     "start_time": "2023-08-08T20:30:16.034140Z",
     "end_time": "2023-08-08T20:30:16.097999Z"
    }
   }
  },
  {
   "cell_type": "code",
   "execution_count": 24,
   "outputs": [
    {
     "data": {
      "text/plain": "   sentiment      label   percent\n0          1  Bolsonaro  61.63042\n1          1     Haddad  38.36958",
      "text/html": "<div>\n<style scoped>\n    .dataframe tbody tr th:only-of-type {\n        vertical-align: middle;\n    }\n\n    .dataframe tbody tr th {\n        vertical-align: top;\n    }\n\n    .dataframe thead th {\n        text-align: right;\n    }\n</style>\n<table border=\"1\" class=\"dataframe\">\n  <thead>\n    <tr style=\"text-align: right;\">\n      <th></th>\n      <th>sentiment</th>\n      <th>label</th>\n      <th>percent</th>\n    </tr>\n  </thead>\n  <tbody>\n    <tr>\n      <th>0</th>\n      <td>1</td>\n      <td>Bolsonaro</td>\n      <td>61.63042</td>\n    </tr>\n    <tr>\n      <th>1</th>\n      <td>1</td>\n      <td>Haddad</td>\n      <td>38.36958</td>\n    </tr>\n  </tbody>\n</table>\n</div>"
     },
     "execution_count": 24,
     "metadata": {},
     "output_type": "execute_result"
    }
   ],
   "source": [
    "df"
   ],
   "metadata": {
    "collapsed": false,
    "ExecuteTime": {
     "start_time": "2023-08-08T20:30:16.101145Z",
     "end_time": "2023-08-08T20:30:16.142385Z"
    }
   }
  },
  {
   "cell_type": "code",
   "execution_count": 25,
   "outputs": [
    {
     "data": {
      "text/plain": "<Figure size 500x500 with 1 Axes>",
      "image/png": "[encoded data removed]"
     },
     "metadata": {},
     "output_type": "display_data"
    }
   ],
   "source": [
    "import seaborn as sns\n",
    "\n",
    "sns.set_style(\"whitegrid\")\n",
    "\n",
    "blue = '#0000FF'\n",
    "red = '#FF3333'\n",
    "colors = sns.set_palette([blue, red])\n",
    "\n",
    "g = sns.catplot(data=df, x = 'label', y = 'percent', kind='bar', palette=colors)\n",
    "g.ax.set_ylim(0,100)\n",
    "\n",
    "g.ax.set(title = 'Tweets')\n",
    "\n",
    "for p in g.ax.patches:\n",
    "    txt = str(round(p.get_height(), 1))\n",
    "    txt_x = p.get_x() + p.get_width()/2\n",
    "    txt_y = p.get_height()\n",
    "    g.ax.text(txt_x,txt_y,txt, ha = 'center')"
   ],
   "metadata": {
    "collapsed": false,
    "ExecuteTime": {
     "start_time": "2023-08-08T20:30:16.142222Z",
     "end_time": "2023-08-08T20:30:16.392607Z"
    }
   }
  },
  {
   "cell_type": "code",
   "execution_count": 25,
   "outputs": [],
   "source": [],
   "metadata": {
    "collapsed": false,
    "ExecuteTime": {
     "start_time": "2023-08-08T20:30:16.377053Z",
     "end_time": "2023-08-08T20:30:16.392785Z"
    }
   }
  }
 ],
 "metadata": {
  "kernelspec": {
   "display_name": "Python 3",
   "language": "python",
   "name": "python3"
  },
  "language_info": {
   "codemirror_mode": {
    "name": "ipython",
    "version": 2
   },
   "file_extension": ".py",
   "mimetype": "text/x-python",
   "name": "python",
   "nbconvert_exporter": "python",
   "pygments_lexer": "ipython2",
   "version": "2.7.6"
  }
 },
 "nbformat": 4,
 "nbformat_minor": 0
}
